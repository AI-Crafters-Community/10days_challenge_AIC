{
  "cells": [
    {
      "cell_type": "markdown",
      "metadata": {
        "id": "FTO_H3oOH12z"
      },
      "source": [
        "# AI Travel Planner\n",
        "\n",
        "This notebook uses smolagents and Gemini to provide live web results for flights, hotels, and itinerary recommendations.\n",
        "The user enters a single prompt and all agents are called automatically."
      ]
    },
    {
      "cell_type": "markdown",
      "metadata": {
        "id": "VX16b2QGH121"
      },
      "source": [
        "## Install dependencies"
      ]
    },
    {
      "cell_type": "code",
      "execution_count": 2,
      "metadata": {
        "colab": {
          "base_uri": "https://localhost:8080/"
        },
        "id": "ZUgWcD-QH122",
        "outputId": "539de979-02d1-4973-a895-12e7c750c6fb"
      },
      "outputs": [
        {
          "name": "stdout",
          "output_type": "stream",
          "text": [
            "Collecting smolagents\n",
            "  Downloading smolagents-1.21.3-py3-none-any.whl.metadata (16 kB)\n",
            "Requirement already satisfied: google-generativeai in /usr/local/lib/python3.12/dist-packages (0.8.5)\n",
            "Collecting duckduckgo-search\n",
            "  Downloading duckduckgo_search-8.1.1-py3-none-any.whl.metadata (16 kB)\n",
            "Collecting ddgs\n",
            "  Downloading ddgs-9.6.0-py3-none-any.whl.metadata (18 kB)\n",
            "Requirement already satisfied: huggingface-hub>=0.31.2 in /usr/local/lib/python3.12/dist-packages (from smolagents) (0.34.4)\n",
            "Requirement already satisfied: requests>=2.32.3 in /usr/local/lib/python3.12/dist-packages (from smolagents) (2.32.4)\n",
            "Requirement already satisfied: rich>=13.9.4 in /usr/local/lib/python3.12/dist-packages (from smolagents) (13.9.4)\n",
            "Requirement already satisfied: jinja2>=3.1.4 in /usr/local/lib/python3.12/dist-packages (from smolagents) (3.1.6)\n",
            "Requirement already satisfied: pillow>=10.0.1 in /usr/local/lib/python3.12/dist-packages (from smolagents) (11.3.0)\n",
            "Requirement already satisfied: python-dotenv in /usr/local/lib/python3.12/dist-packages (from smolagents) (1.1.1)\n",
            "Requirement already satisfied: google-ai-generativelanguage==0.6.15 in /usr/local/lib/python3.12/dist-packages (from google-generativeai) (0.6.15)\n",
            "Requirement already satisfied: google-api-core in /usr/local/lib/python3.12/dist-packages (from google-generativeai) (2.25.1)\n",
            "Requirement already satisfied: google-api-python-client in /usr/local/lib/python3.12/dist-packages (from google-generativeai) (2.181.0)\n",
            "Requirement already satisfied: google-auth>=2.15.0 in /usr/local/lib/python3.12/dist-packages (from google-generativeai) (2.38.0)\n",
            "Requirement already satisfied: protobuf in /usr/local/lib/python3.12/dist-packages (from google-generativeai) (5.29.5)\n",
            "Requirement already satisfied: pydantic in /usr/local/lib/python3.12/dist-packages (from google-generativeai) (2.11.7)\n",
            "Requirement already satisfied: tqdm in /usr/local/lib/python3.12/dist-packages (from google-generativeai) (4.67.1)\n",
            "Requirement already satisfied: typing-extensions in /usr/local/lib/python3.12/dist-packages (from google-generativeai) (4.15.0)\n",
            "Requirement already satisfied: proto-plus<2.0.0dev,>=1.22.3 in /usr/local/lib/python3.12/dist-packages (from google-ai-generativelanguage==0.6.15->google-generativeai) (1.26.1)\n",
            "Requirement already satisfied: click>=8.1.8 in /usr/local/lib/python3.12/dist-packages (from duckduckgo-search) (8.2.1)\n",
            "Collecting primp>=0.15.0 (from duckduckgo-search)\n",
            "  Downloading primp-0.15.0-cp38-abi3-manylinux_2_17_x86_64.manylinux2014_x86_64.whl.metadata (13 kB)\n",
            "Requirement already satisfied: lxml>=5.3.0 in /usr/local/lib/python3.12/dist-packages (from duckduckgo-search) (5.4.0)\n",
            "Collecting lxml>=5.3.0 (from duckduckgo-search)\n",
            "  Downloading lxml-6.0.1-cp312-cp312-manylinux_2_26_x86_64.manylinux_2_28_x86_64.whl.metadata (3.8 kB)\n",
            "Requirement already satisfied: httpx>=0.28.1 in /usr/local/lib/python3.12/dist-packages (from httpx[brotli,http2,socks]>=0.28.1->ddgs) (0.28.1)\n",
            "Requirement already satisfied: googleapis-common-protos<2.0.0,>=1.56.2 in /usr/local/lib/python3.12/dist-packages (from google-api-core->google-generativeai) (1.70.0)\n",
            "Requirement already satisfied: cachetools<6.0,>=2.0.0 in /usr/local/lib/python3.12/dist-packages (from google-auth>=2.15.0->google-generativeai) (5.5.2)\n",
            "Requirement already satisfied: pyasn1-modules>=0.2.1 in /usr/local/lib/python3.12/dist-packages (from google-auth>=2.15.0->google-generativeai) (0.4.2)\n",
            "Requirement already satisfied: rsa<5,>=3.1.4 in /usr/local/lib/python3.12/dist-packages (from google-auth>=2.15.0->google-generativeai) (4.9.1)\n",
            "Requirement already satisfied: anyio in /usr/local/lib/python3.12/dist-packages (from httpx>=0.28.1->httpx[brotli,http2,socks]>=0.28.1->ddgs) (4.10.0)\n",
            "Requirement already satisfied: certifi in /usr/local/lib/python3.12/dist-packages (from httpx>=0.28.1->httpx[brotli,http2,socks]>=0.28.1->ddgs) (2025.8.3)\n",
            "Requirement already satisfied: httpcore==1.* in /usr/local/lib/python3.12/dist-packages (from httpx>=0.28.1->httpx[brotli,http2,socks]>=0.28.1->ddgs) (1.0.9)\n",
            "Requirement already satisfied: idna in /usr/local/lib/python3.12/dist-packages (from httpx>=0.28.1->httpx[brotli,http2,socks]>=0.28.1->ddgs) (3.10)\n",
            "Requirement already satisfied: h11>=0.16 in /usr/local/lib/python3.12/dist-packages (from httpcore==1.*->httpx>=0.28.1->httpx[brotli,http2,socks]>=0.28.1->ddgs) (0.16.0)\n",
            "Requirement already satisfied: brotli in /usr/local/lib/python3.12/dist-packages (from httpx[brotli,http2,socks]>=0.28.1->ddgs) (1.1.0)\n",
            "Requirement already satisfied: h2<5,>=3 in /usr/local/lib/python3.12/dist-packages (from httpx[brotli,http2,socks]>=0.28.1->ddgs) (4.3.0)\n",
            "Collecting socksio==1.* (from httpx[brotli,http2,socks]>=0.28.1->ddgs)\n",
            "  Downloading socksio-1.0.0-py3-none-any.whl.metadata (6.1 kB)\n",
            "Requirement already satisfied: filelock in /usr/local/lib/python3.12/dist-packages (from huggingface-hub>=0.31.2->smolagents) (3.19.1)\n",
            "Requirement already satisfied: fsspec>=2023.5.0 in /usr/local/lib/python3.12/dist-packages (from huggingface-hub>=0.31.2->smolagents) (2025.3.0)\n",
            "Requirement already satisfied: packaging>=20.9 in /usr/local/lib/python3.12/dist-packages (from huggingface-hub>=0.31.2->smolagents) (25.0)\n",
            "Requirement already satisfied: pyyaml>=5.1 in /usr/local/lib/python3.12/dist-packages (from huggingface-hub>=0.31.2->smolagents) (6.0.2)\n",
            "Requirement already satisfied: hf-xet<2.0.0,>=1.1.3 in /usr/local/lib/python3.12/dist-packages (from huggingface-hub>=0.31.2->smolagents) (1.1.9)\n",
            "Requirement already satisfied: MarkupSafe>=2.0 in /usr/local/lib/python3.12/dist-packages (from jinja2>=3.1.4->smolagents) (3.0.2)\n",
            "Requirement already satisfied: charset_normalizer<4,>=2 in /usr/local/lib/python3.12/dist-packages (from requests>=2.32.3->smolagents) (3.4.3)\n",
            "Requirement already satisfied: urllib3<3,>=1.21.1 in /usr/local/lib/python3.12/dist-packages (from requests>=2.32.3->smolagents) (2.5.0)\n",
            "Requirement already satisfied: markdown-it-py>=2.2.0 in /usr/local/lib/python3.12/dist-packages (from rich>=13.9.4->smolagents) (4.0.0)\n",
            "Requirement already satisfied: pygments<3.0.0,>=2.13.0 in /usr/local/lib/python3.12/dist-packages (from rich>=13.9.4->smolagents) (2.19.2)\n",
            "Requirement already satisfied: httplib2<1.0.0,>=0.19.0 in /usr/local/lib/python3.12/dist-packages (from google-api-python-client->google-generativeai) (0.30.0)\n",
            "Requirement already satisfied: google-auth-httplib2<1.0.0,>=0.2.0 in /usr/local/lib/python3.12/dist-packages (from google-api-python-client->google-generativeai) (0.2.0)\n",
            "Requirement already satisfied: uritemplate<5,>=3.0.1 in /usr/local/lib/python3.12/dist-packages (from google-api-python-client->google-generativeai) (4.2.0)\n",
            "Requirement already satisfied: annotated-types>=0.6.0 in /usr/local/lib/python3.12/dist-packages (from pydantic->google-generativeai) (0.7.0)\n",
            "Requirement already satisfied: pydantic-core==2.33.2 in /usr/local/lib/python3.12/dist-packages (from pydantic->google-generativeai) (2.33.2)\n",
            "Requirement already satisfied: typing-inspection>=0.4.0 in /usr/local/lib/python3.12/dist-packages (from pydantic->google-generativeai) (0.4.1)\n",
            "Requirement already satisfied: grpcio<2.0.0,>=1.33.2 in /usr/local/lib/python3.12/dist-packages (from google-api-core[grpc]!=2.0.*,!=2.1.*,!=2.10.*,!=2.2.*,!=2.3.*,!=2.4.*,!=2.5.*,!=2.6.*,!=2.7.*,!=2.8.*,!=2.9.*,<3.0.0dev,>=1.34.1->google-ai-generativelanguage==0.6.15->google-generativeai) (1.74.0)\n",
            "Requirement already satisfied: grpcio-status<2.0.0,>=1.33.2 in /usr/local/lib/python3.12/dist-packages (from google-api-core[grpc]!=2.0.*,!=2.1.*,!=2.10.*,!=2.2.*,!=2.3.*,!=2.4.*,!=2.5.*,!=2.6.*,!=2.7.*,!=2.8.*,!=2.9.*,<3.0.0dev,>=1.34.1->google-ai-generativelanguage==0.6.15->google-generativeai) (1.71.2)\n",
            "Requirement already satisfied: hyperframe<7,>=6.1 in /usr/local/lib/python3.12/dist-packages (from h2<5,>=3->httpx[brotli,http2,socks]>=0.28.1->ddgs) (6.1.0)\n",
            "Requirement already satisfied: hpack<5,>=4.1 in /usr/local/lib/python3.12/dist-packages (from h2<5,>=3->httpx[brotli,http2,socks]>=0.28.1->ddgs) (4.1.0)\n",
            "Requirement already satisfied: pyparsing<4,>=3.0.4 in /usr/local/lib/python3.12/dist-packages (from httplib2<1.0.0,>=0.19.0->google-api-python-client->google-generativeai) (3.2.3)\n",
            "Requirement already satisfied: mdurl~=0.1 in /usr/local/lib/python3.12/dist-packages (from markdown-it-py>=2.2.0->rich>=13.9.4->smolagents) (0.1.2)\n",
            "Requirement already satisfied: pyasn1<0.7.0,>=0.6.1 in /usr/local/lib/python3.12/dist-packages (from pyasn1-modules>=0.2.1->google-auth>=2.15.0->google-generativeai) (0.6.1)\n",
            "Requirement already satisfied: sniffio>=1.1 in /usr/local/lib/python3.12/dist-packages (from anyio->httpx>=0.28.1->httpx[brotli,http2,socks]>=0.28.1->ddgs) (1.3.1)\n",
            "Downloading smolagents-1.21.3-py3-none-any.whl (145 kB)\n",
            "\u001b[2K   \u001b[90m━━━━━━━━━━━━━━━━━━━━━━━━━━━━━━━━━━━━━━━━\u001b[0m \u001b[32m145.4/145.4 kB\u001b[0m \u001b[31m14.2 MB/s\u001b[0m eta \u001b[36m0:00:00\u001b[0m\n",
            "\u001b[?25hDownloading duckduckgo_search-8.1.1-py3-none-any.whl (18 kB)\n",
            "Downloading ddgs-9.6.0-py3-none-any.whl (41 kB)\n",
            "\u001b[2K   \u001b[90m━━━━━━━━━━━━━━━━━━━━━━━━━━━━━━━━━━━━━━━━\u001b[0m \u001b[32m41.6/41.6 kB\u001b[0m \u001b[31m3.8 MB/s\u001b[0m eta \u001b[36m0:00:00\u001b[0m\n",
            "\u001b[?25hDownloading socksio-1.0.0-py3-none-any.whl (12 kB)\n",
            "Downloading lxml-6.0.1-cp312-cp312-manylinux_2_26_x86_64.manylinux_2_28_x86_64.whl (5.3 MB)\n",
            "\u001b[2K   \u001b[90m━━━━━━━━━━━━━━━━━━━━━━━━━━━━━━━━━━━━━━━━\u001b[0m \u001b[32m5.3/5.3 MB\u001b[0m \u001b[31m101.9 MB/s\u001b[0m eta \u001b[36m0:00:00\u001b[0m\n",
            "\u001b[?25hDownloading primp-0.15.0-cp38-abi3-manylinux_2_17_x86_64.manylinux2014_x86_64.whl (3.3 MB)\n",
            "\u001b[2K   \u001b[90m━━━━━━━━━━━━━━━━━━━━━━━━━━━━━━━━━━━━━━━━\u001b[0m \u001b[32m3.3/3.3 MB\u001b[0m \u001b[31m90.4 MB/s\u001b[0m eta \u001b[36m0:00:00\u001b[0m\n",
            "\u001b[?25hInstalling collected packages: socksio, primp, lxml, duckduckgo-search, smolagents, ddgs\n",
            "  Attempting uninstall: lxml\n",
            "    Found existing installation: lxml 5.4.0\n",
            "    Uninstalling lxml-5.4.0:\n",
            "      Successfully uninstalled lxml-5.4.0\n",
            "Successfully installed ddgs-9.6.0 duckduckgo-search-8.1.1 lxml-6.0.1 primp-0.15.0 smolagents-1.21.3 socksio-1.0.0\n"
          ]
        }
      ],
      "source": [
        "!pip install smolagents google-generativeai duckduckgo-search ddgs"
      ]
    },
    {
      "cell_type": "markdown",
      "metadata": {
        "id": "_sEL4HLHH124"
      },
      "source": [
        "## Setup Gemini API"
      ]
    },
    {
      "cell_type": "code",
      "execution_count": 3,
      "metadata": {
        "colab": {
          "base_uri": "https://localhost:8080/"
        },
        "id": "y_D28mCuH124",
        "outputId": "70096cb0-2671-4f6f-d960-4ff976482bba"
      },
      "outputs": [
        {
          "name": "stdout",
          "output_type": "stream",
          "text": [
            "Enter your Gemini API key: ··········\n"
          ]
        }
      ],
      "source": [
        "import google.generativeai as genai\n",
        "from getpass import getpass\n",
        "\n",
        "API_KEY = getpass('Enter your Gemini API key: ')\n",
        "genai.configure(api_key=API_KEY)"
      ]
    },
    {
      "cell_type": "markdown",
      "metadata": {
        "id": "WVQvf2XnH125"
      },
      "source": [
        "## Load Gemini Model"
      ]
    },
    {
      "cell_type": "code",
      "execution_count": 4,
      "metadata": {
        "id": "lVFZiVVJH125"
      },
      "outputs": [],
      "source": [
        "from smolagents import OpenAIServerModel\n",
        "\n",
        "model = OpenAIServerModel(\n",
        "    model_id='gemini-2.0-flash',\n",
        "    api_base='https://generativelanguage.googleapis.com/v1beta',\n",
        "    api_key=API_KEY\n",
        ")"
      ]
    },
    {
      "cell_type": "markdown",
      "metadata": {
        "id": "9_8FciH5H125"
      },
      "source": [
        "## Define Agents using Smolagents"
      ]
    },
    {
      "cell_type": "code",
      "execution_count": 5,
      "metadata": {
        "id": "HXo9mKu3H126"
      },
      "outputs": [],
      "source": [
        "from smolagents import DuckDuckGoSearchTool, tool\n",
        "\n",
        "# Use DuckDuckGoSearchTool to retrieve live web info\n",
        "search_tool = DuckDuckGoSearchTool()\n",
        "\n",
        "# Flights agent\n",
        "@tool\n",
        "def flights_agent(origin: str, destination: str, date: str) -> str:\n",
        "    \"\"\"Searches for flights.\n",
        "\n",
        "    Args:\n",
        "        origin: The origin city.\n",
        "        destination: The destination city.\n",
        "        date: The travel date in YYYY-MM-DD format.\n",
        "    \"\"\"\n",
        "    query = f'flights from {origin} to {destination} on {date} site:skyscanner.com OR site:expedia.com'\n",
        "    results = search_tool(query)\n",
        "    return f'Flight search results:\\n{results}'\n",
        "\n",
        "# Hotels agent\n",
        "@tool\n",
        "def hotels_agent(city: str, nights: int) -> str:\n",
        "    \"\"\"Searches for hotels.\n",
        "\n",
        "    Args:\n",
        "        city: The city to search for hotels.\n",
        "        nights: The number of nights for the stay.\n",
        "    \"\"\"\n",
        "    query = f'hotels in {city} for {nights} nights site:booking.com OR site:expedia.com'\n",
        "    results = search_tool(query)\n",
        "    return f'Hotel search results:\\n{results}'\n",
        "\n",
        "# Roadtrip agent\n",
        "@tool\n",
        "def itinerary_agent(city: str, nights: int) -> str:\n",
        "    \"\"\"Suggests itinerary items.\n",
        "\n",
        "    Args:\n",
        "        city: The city for the itinerary.\n",
        "        nights: The number of nights for the trip.\n",
        "    \"\"\"\n",
        "    query = f'top things to do in {city} {nights} days site:tripadvisor.com'\n",
        "    results = search_tool(query)\n",
        "    return f'Itinerary suggestions:\\n{results}'"
      ]
    },
    {
      "cell_type": "markdown",
      "metadata": {
        "id": "VSa8nILxH126"
      },
      "source": [
        "## Travel Planner"
      ]
    },
    {
      "cell_type": "code",
      "execution_count": 6,
      "metadata": {
        "colab": {
          "base_uri": "https://localhost:8080/",
          "height": 1000
        },
        "id": "11nNBiG7H126",
        "outputId": "c6b4996d-d090-4c39-8c78-c6f34b84ba5a"
      },
      "outputs": [
        {
          "name": "stdout",
          "output_type": "stream",
          "text": [
            "Enter your travel plan (origin, destination, date, nights): casalblanca, tokyo, 2025-10-10, 7\n",
            "--- TRAVEL PLAN ---\n",
            "\n",
            "Flight search results:\n",
            "## Search Results\n",
            "\n",
            "[$183 Cheap Flights to Tokyo - Expedia](https://www.expedia.com/Cheap-Flights-To-Tokyo.d179900.Travel-Guide-Flights)\n",
            "Looking for cheap flights to Tokyo ? Many airlines offer no change fee on selected flights and book now to earn your airline miles on top of our rewards! Find great 2025 Tokyo flight deals now!\n",
            "\n",
            "[Cheap Flights, Plane Tickets & Airline Deals - Expedia](https://www.expedia.com/Flights)\n",
            "Sep 19, 2010 · Book cheap flights with Expedia and select from thousands of cheap airline tickets. Earn your airline miles on top of our rewards!\n",
            "\n",
            "[$258 Cheap Flights & Airfare to Japan - Expedia.com](https://www.expedia.com/Destinations-In-Japan.d89.Flight-Destinations)\n",
            "Jan 14, 2015 · Find cheap return or one-way flights to Japan. Book & compare flight deals to Japan and save now! Get great flight deals to Japan for 2025 .\n",
            "\n",
            "[The best days and months to book a flight in 2025 - Expedia](https://www.expedia.com/magazine/air-hacks-travel-booking-tips-cheapest-time-to-fly/)\n",
            "Want to know how to book the cheapest flights in 2025 ? We unpack this year's best travel hacks, including the best days and months to fly\n",
            "\n",
            "[Great deals on flights | Expedia](https://www.expedia.com/flight-deals)\n",
            "Explore Expedia ’s list of cheap flights deals from our trusted partners! If you already know your travel dates or destination, you can use the search bar to find the best flight deals to suit your needs. Score the cheapest flight deals by being flexible with travel dates, arrival/departure airports and times, and number of stops. Cheap airfare deals also depend on the airline. Win big with ...\n",
            "\n",
            "[Flight deals on Expedia](https://www.expedia.com/deals/cheap-flights)\n",
            "Find cheap flights to popular destinations on Expedia . Compare prices, airlines, and dates to get the best deals.\n",
            "\n",
            "[Expedia $651 Cheap flights from Casablanca to Tokyo (CMN to HND) - Expedia](https://www.expedia.com/lp/flights/cmn/hnd/casablanca-to-tokyo)\n",
            "You could save 24% by buying your ... and 10 % by booking international flights 2 months in advance. How to find cheap round-trip tickets from Casablanca to Tokyo · Being flexible with your dates and using Expedia's Price Drop Protection and Price Tracking features are some of the best ways of finding a cheap ticket from Casablanca to Tokyo in 2025 ...\n",
            "\n",
            "[Expedia $463 Cheap Flights from Tokyo (NRT) to Casablanca (CMN) - Expedia](https://www.expedia.com/lp/flights/nrt/cmn/tokyo-to-casablanca)\n",
            "You could save 24% by buying your ... and 10 % by booking international flights 2 months in advance. How to find cheap round-trip tickets from Tokyo to Casablanca · Being flexible with your dates and using Expedia's Price Drop Protection and Price Tracking features are some of the best ways of finding a cheap ticket from Tokyo to Casablanca in 2025 ...\n",
            "\n",
            "[Expedia $592 Cheap flights from Casablanca to Tokyo (CMN to NRT) - Expedia](https://www.expedia.com/lp/flights/cmn/nrt/casablanca-to-tokyo)\n",
            "You could save 24% by buying your ... and 10 % by booking international flights 2 months in advance. How to find cheap round-trip tickets from Casablanca to Tokyo · Being flexible with your dates and using Expedia's Price Drop Protection and Price Tracking features are some of the best ways of finding a cheap ticket from Casablanca to Tokyo in 2025 ...\n",
            "\n",
            "[Expedia Cheap flights from Casablanca (CMN) to Tokyo (TYO)](https://www.expedia.com/lp/flights/cmn/tyo/casablanca-to-tokyo)\n",
            "Your one-stop travel site for your dream vacation. Bundle your stay with a car rental or flight and you can save more. Search our flexible options to match your needs.\n",
            "\n",
            "Hotel search results:\n",
            "## Search Results\n",
            "\n",
            "[Top Hotels In Tokyo - Booking.com - Hotels](https://www.bing.com/aclick?ld=e86J1-AJJmjVmGA70hgU_A7TVUCUzT2z6cq2Pkaj9Uw9VGoETIbnOMYZLwWzhDKTHJrr1IGh6O7kscRLXbO1o1XJASJ2eOM0f2bTJoGS17XDKr6hNxWZLniwcFlmGEkaHI66BvHFuEezzT2BPN-G7Pqu2Ai4s7o0mXjKuMjXkb3LW_Ek91EnAPy_RyfEz8Kyc4WNPbXQ&u=aHR0cCUzYSUyZiUyZnd3dy5ib29raW5nLmNvbSUyZmNpdHklMmZqcCUyZnRva3lvLmh0bWwlM2ZhaWQlM2QzMDY3NDIlMjZwYWdlbmFtZSUzZGpwLXRva3lvJTI2bGFiZWwlM2Rtc24tRnVWZXlBSkpmSVZfeEpRcUhXaTRoQS04MDUzOTQxMTA3NzYwMCUzYXRpa3dkLTgwNTM5NTQwNTkxMzE5JTNhbG9jLTE5MCUzYW5lbyUzYW10ZSUzYWxwNDQ4NjIlM2FkZWMlM2Fxc2hvdGVscyUyNTIwaW4lMjUyMHRva3lvJTI1MjBmb3IlMjUyMDclMjUyMG5pZ2h0cyUyNnV0bV9jYW1wYWlnbiUzZEphcGFuJTI2dXRtX21lZGl1bSUzZGNwYyUyNnV0bV9zb3VyY2UlM2RiaW5nJTI2dXRtX3Rlcm0lM2RGdVZleUFKSmZJVl94SlFxSFdpNGhBJTI2bXNjbGtpZCUzZDZjMTkzODAxZTMwNjFjOTBmZDg3NTBjYzljYTJiY2VhJTI2dXRtX2NvbnRlbnQlM2RUb2t5byUyNTIwLSUyNTIwVUZJJTI1M0EtMjQ2MjI3&rlid=6c193801e3061c90fd8750cc9ca2bcea)\n",
            "Book your Hotel in Tokyo online. No reservation costs. Great rates. We Make it Easier for Everyone to Experience The World - A Booking for Everyone. Book Now! Types : Apartments, Villas, Hostels, Lodges, Studios, Holiday Homes, Bungalows\n",
            "\n",
            "[Lodging in Tokyo - Stays from $73 - Book Now](https://www.bing.com/aclick?ld=e8nQ6x9VOTfCbbD9C_tcfZ_jVUCUzGcePWjt3u_v0C0l-UgzZfH-fuelGVszoR4EjnfeeQd--EqmINwkPM5h3Of5yooMbf3pr8ise1DU5QxU6m9EPJqsNu94DEfToYzTgxiP_4jTYcky6VYOuwNZYFYpEkZbsTDEabJO80PVW4vBT93gaSz3bPBVc7PTR84XJLtdOTNA&u=aHR0cHMlM2ElMmYlMmZ3d3cuZXhwZWRpYS5jb20lMmZIb3RlbC1TZWFyY2glM2ZyZWdpb25JZCUzZDM1OTMlMjZsb2NhbGUlM2Rlbl9VUyUyNnNpdGVpZCUzZDElMjZzZW1jaWQlM2RVUy5VQi5CSU5HLkRULWMtRU4uSE9URUwlMjZzZW1kdGwlM2RhMTQxNDAxMzQ1MS5iMTEzMTI4MTgwMzY2NTI5MTIuZzFrd2QtODIwNTE4NzY5Nzg3OTQlM2Fsb2MtMTkwLmUxYy5tMWU2N2Q1MWJkZGU2YzFiYmY3MTEwMzk3MGExYzg0ZWY5LnIxMzAzNDI4NTY1M2EzOTk3OWJlMTBlOWZkYTNiNGY2MGMxNTU2NmZjZGQ0MTZiN2MzNjQ5MTM4YzhhODhjNGQ2My5jMS5qMTQ0ODYyLmsxLmQxODIwNTEzOTQ0MDQxNzIuaDFwLmkxLmwxLm4xLm8xLnAxLnExLnMxLnQxLngxLmYxLnUxLnYxLncxJTI2bXNjbGtpZCUzZGU2N2Q1MWJkZGU2YzFiYmY3MTEwMzk3MGExYzg0ZWY5&rlid=e67d51bdde6c1bbf71103970a1c84ef9)\n",
            "Book Now Compare Accommodation on Expedia. View Deals and Reserve Now. Intuitive Trip Planning Allows You to Get More Travel with Less Stress. Compare & Save · Secure Booking · 11+ Million Reviews · 24/7 Customer Support Types : Hotels, Resorts, Stay, Accommodation, Motels, B&Bs, Hostels, Aparthotels\n",
            "\n",
            "[Hotel Tokyo Shibuya - Hotels in Tokyo](https://www.bing.com/aclick?ld=e85UIntof9AX7t8ulMuw2CHTVUCUx2-rDNesqH1gHZhF-UPCuApnJxW7HhoBXdNTx7ffglLtgEQIdWaRQ4OeBnE0iAIb9C9D9LoL4WbZren9vitbW3cPl1V0h8xhbN4e-_ZFsRLTE9xEtmxjqUO71qem4cytALyoyQ23DMk0YnbAAdo52AFJsaPkD-KTrh1q6vRWzRMA&u=aHR0cHMlM2ElMmYlMmZ3d3cuaG90ZWxzLmNvbSUyZmRlNzI2Nzg0LXN0MiUyZnR3by1zdGFyLWhvdGVscy10b2t5by1qYXBhbiUyZiUzZnNlbWNpZCUzZEhDT00tVVMuVUIuQklORy5ETC1EU0EtYy1FTi5IT1RFTCUyNnNlbWR0bCUzZGExNDI4NTE3NzEyLmIxMTM0NTgwMzczNDM2NDI4Ni5nMWRhdC0yMzM1OTEyNDUzMzk5MTcwJTNhbG9jLTE5MC5lMWMubTE2M2ZlNDIwMTVjOTQxM2YxYzJjOTJhY2MyMzMwNjJjOC5yMS5jMS5qMTQ0ODYyLmsxLmQxODQxMTMwNjI5MTM2MTcuaDFiLmkxLmwxLm4xLm8xLnAxLnExLnMxLnQxLngxLmYxLnUxLnYxLncxJTI2bXNjbGtpZCUzZDYzZmU0MjAxNWM5NDEzZjFjMmM5MmFjYzIzMzA2MmM4&rlid=63fe42015c9413f1c2c92acc233062c8)\n",
            "Book Now Browse the Photos and Get Inspired. Start Planning Your Next Getaway. Let Us Take Care of Everything. Check Out Our Amazing Deals. Family-Friendly Options · Easy to Modify Plans · Real Customer Reviews · Browse Photos Types : Hotels, Resorts, Stay, Accommodation, Motels, B&Bs, Hostels, Aparthotels\n",
            "\n",
            "[Top 10 Hotels in Tokyo from $44 - Compare prices by date ...](https://www.expedia.com/Tokyo-Hotels.d179900.Travel-Guide-Hotels)\n",
            "Find 4,811 of the best hotels in Tokyo in 2025. Compare room rates, hotel reviews and availability. Most hotels are fully refundable.\n",
            "\n",
            "[Hotel TOKI 季, Tokyo (updated prices 2025) - Booking.com](https://www.booking.com/hotel/jp/toki-ji.html)\n",
            "Located conveniently in the Taito Ward district of Tokyo, Hotel TOKI 季 is located a 6-minute walk from The Shitaya Shrine, 0.\n",
            "\n",
            "[Tokyo Vacation Packages 2025/2026 from $1,565 | Expedia](https://www.expedia.com/Tokyo.d179900.Destination-Travel-Guides)\n",
            "Bundle Tokyo flight + hotel & save up to 100% off your flight with Expedia . FREE cancellation on select hotels\n",
            "\n",
            "[Toyoko Inn Tokyo eki Yaesu Kita guchi, Tokyo, Japan](https://www.booking.com/hotel/jp/toyoko-inn-tokyo-eki-yaesu-kita-guchi.html)\n",
            "Conveniently located in the center of Tokyo , Toyoko Inn Tokyo eki Yaesu Kita guchi provides buffet breakfast and free WiFi.\n",
            "\n",
            "[Visit Tokyo: 2025 Travel Guide for Tokyo, Tokyo Prefecture ...](https://www.expedia.com/Tokyo.dx179900)\n",
            "Plan your Tokyo adventure with Expedia 's 2025 travel guide featuring top attractions, dining options, and accommodation recommendations for an unforgettable experience.\n",
            "\n",
            "[Tokyu Stay Yotsuya, Tokyo (updated prices 2025) - Booking.com](https://www.booking.com/hotel/jp/tokyu-stay-yotsuya-xin-su-qu.html)\n",
            "Tokyu Stay Yotsuya features accommodations within one mile of the center of Tokyo , with free Wifi and a kitchen with a microwave, a fridge, and a stovetop.\n",
            "\n",
            "[The Best Cheap Hotels in Tokyo from $41 - Expedia](https://www.expedia.com/Tokyo-Hotels-Cheap-Hotels.0-0-d179900-tCheapHotels.Travel-Guide-Filter-Hotels)\n",
            "For budget hotels in Tokyo, 3 to 4 days should be all the nights you need. That's generally enough to enjoy the city's top attractions, though there's certainly enough to do to warrant a week-long trip.\n",
            "\n",
            "Itinerary suggestions:\n",
            "## Search Results\n",
            "\n",
            "[THE 15 BEST Things to Do in Tokyo (2025)](https://www.tripadvisor.com/Attractions-g298184-Activities-Tokyo_Tokyo_Prefecture_Kanto.html)\n",
            "Go shopping in Ginza , hunt for anime merch in Akihabara, or snap a selfie in Shibuya Crossing. Or, if you prefer to taste your way through Tokyo, try a food ...\n",
            "\n",
            "[7 days in Tokyo: The perfect week itinerary](https://www.tripadvisor.com/Articles-l3XjhfSxGehk-7_days_in_tokyo_itinerary.html)\n",
            "Nov 6, 2023 — This 7-day Tokyo itinerary offers the best of the city, from the top restaurants and tea houses to serene temples and gardens.\n",
            "\n",
            "[THE 15 BEST Tokyo Multi-Day Tour Packages (with Prices)](https://www.tripadvisor.com/Attractions-g298184-Activities-c42-t288-Tokyo_Tokyo_Prefecture_Kanto.html)\n",
            "We have created the ultimate Tokyo itinerary, visiting both iconic landmarks, temples, food market , but also including some local hidden secrets!\n",
            "\n",
            "[THE 10 BEST Fun Things to Do in Tokyo (Updated 2025)](https://www.tripadvisor.com/Attractions-g298184-Activities-c56-Tokyo_Tokyo_Prefecture_Kanto.html)\n",
            "1. Owl cafe tokyo Akiba Fukurou · 2. mipig cafe · 3. Dog Cafe Rio Akihabara · 4. Tokyo Joypolis · 5. KidZania Tokyo · 6. Samurai Armor Photo ...\n",
            "\n",
            "[Week in Tokyo - Tokyo Forum](https://www.tripadvisor.com/ShowTopic-g298184-i861-k14588082-Week_in_Tokyo-Tokyo_Tokyo_Prefecture_Kanto.html)\n",
            "Nov 16, 2023 — 1. Fly to Japan, arrive in Tokyo · 2. Asakusa shrine, Senso-ji & Nakamise dori, Kappabashi Dougu Street · 3. Yoyogi park, Takeshita street, ...\n",
            "\n",
            "[THE 10 BEST Tokyo Tours & Excursions (2025) - Tripadvisor](https://www.tripadvisor.com/Attractions-g298184-Activities-c42-Tokyo_Tokyo_Prefecture_Kanto.html)\n",
            "1. Mt Fuji and Hakone 1-Day Bus Tour Return by Bullet Train · 2. Tokyo: Shinjuku Food Tour (13 Dishes at 4 Local Eateries) · 3. Private ...\n",
            "\n",
            "[Customized 7-Day Best Japan Tour from Tokyo, Private ...](https://www.tripadvisor.com/AttractionProductReview-g1066457-d17539593-Customized_7_Day_Best_Japan_Tour_from_Tokyo_Private_Guide-Shinjuku_Tokyo_Tokyo_Pr.html)\n",
            "Take this 7-day private tour to check Japan off your bucket list. Travel to Tokyo, Mt. Fuji, Osaka, Kyoto and Nara , this trip is full of adventures, ...\n",
            "\n",
            "[7-Day Guided Tour in Tokyo, Mount Fuji, Kyoto, Nara and ...](https://www.tripadvisor.com/AttractionProductReview-g298161-d25287777-7_Day_Guided_Tour_in_Tokyo_Mount_Fuji_Kyoto_Nara_and_Osaka-Narita_Chiba_Prefecture.html)\n",
            "Explore the ancient cities of Kamakura, Kyoto and Nara and stroll through the modern city of Tokyo to feel the instant charm of Japan. Have a quick view of all ...\n",
            "\n",
            "[THE 15 BEST Things to Do in Tokyo (2025)](https://www.tripadvisor.com/Attractions-g298184-Activities-oa3060-Tokyo_Tokyo_Prefecture_Kanto.html)\n",
            "3061. Akasaka Biz Tower · 3062. Renko-in · 3063. Kibun Inari Shrine · 3064. Koen-ji Temple · 3065. Ryukansakura Bridge · 3066. Tokyo ...\n",
            "\n",
            "[THE 15 BEST Things to Do in Shinjuku (2025)](https://www.tripadvisor.com/Attractions-g1066457-Activities-Shinjuku_Tokyo_Tokyo_Prefecture_Kanto.html)\n",
            "Check out must-see sights and activities: Shinjuku Gyoen National Garden , Tokyo Metropolitan Government Building Observation Decks, Walking Tours, ...\n"
          ]
        }
      ],
      "source": [
        "# Ask user for travel details in one prompt\n",
        "user_input = input('Enter your travel plan (origin, destination, date (YYYY-MM-DD), nights): ')\n",
        "\n",
        "# Gemini parses the user input into structured info\n",
        "parse_prompt = f\"\"\"\n",
        "You are a travel assistant.\n",
        "Extract the following information from the user's input:\n",
        "- origin city\n",
        "- destination city\n",
        "- travel date (YYYY-MM-DD)\n",
        "- number of nights\n",
        "\n",
        "User input: {user_input}\n",
        "Provide the answer in the format:\n",
        "origin=<city>;destination=<city>;date=<YYYY-MM-DD>;nights=<number>\n",
        "\"\"\"\n",
        "\n",
        "# Use the configured genai model to parse the input\n",
        "parsed = genai.GenerativeModel('gemini-2.0-flash').generate_content(parse_prompt)\n",
        "parsed_text = parsed.text.strip()\n",
        "\n",
        "# Convert parsed info to dict\n",
        "info = dict(item.split('=') for item in parsed_text.replace(' ','').split(';'))\n",
        "\n",
        "# Run all agents\n",
        "flights_results = flights_agent(info['origin'], info['destination'], info['date'])\n",
        "hotels_results = hotels_agent(info['destination'], int(info['nights']))\n",
        "itinerary_results = itinerary_agent(info['destination'], int(info['nights']))\n",
        "\n",
        "# Combine results\n",
        "final_plan = f\"--- TRAVEL PLAN ---\\n\\n{flights_results}\\n\\n{hotels_results}\\n\\n{itinerary_results}\"\n",
        "\n",
        "print(final_plan)"
      ]
    }
  ],
  "metadata": {
    "colab": {
      "provenance": []
    },
    "kernelspec": {
      "display_name": "Python 3",
      "language": "python",
      "name": "python3"
    },
    "language_info": {
      "name": "python"
    }
  },
  "nbformat": 4,
  "nbformat_minor": 0
}
