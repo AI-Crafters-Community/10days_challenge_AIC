{
  "cells": [
    {
      "cell_type": "markdown",
      "id": "666a0de9",
      "metadata": {
        "id": "666a0de9"
      },
      "source": [
        "# AI Travel Planner — MCP\n",
        "\n",
        "**Requirements:** You'll need a Open Router API key."
      ]
    },
    {
      "cell_type": "markdown",
      "id": "c689146e",
      "metadata": {
        "id": "c689146e"
      },
      "source": [
        "## Install dependencies"
      ]
    },
    {
      "cell_type": "code",
      "execution_count": 2,
      "id": "7455ae9a",
      "metadata": {
        "colab": {
          "base_uri": "https://localhost:8080/"
        },
        "id": "7455ae9a",
        "outputId": "903fdae4-130e-4b60-d235-46c88f28c840"
      },
      "outputs": [
        {
          "output_type": "stream",
          "name": "stdout",
          "text": [
            "Installed dependencies\n"
          ]
        }
      ],
      "source": [
        "!pip -q install --quiet smolagents google-generativeai ddgs fastapi uvicorn[standard] pydantic requests nest-asyncio\n",
        "print('Installed dependencies')"
      ]
    },
    {
      "cell_type": "markdown",
      "id": "11e3b2e7",
      "metadata": {
        "id": "11e3b2e7"
      },
      "source": [
        "## Configuration\n",
        "\n",
        "Provide your Open Router API key."
      ]
    },
    {
      "cell_type": "code",
      "execution_count": 9,
      "id": "548e43fa",
      "metadata": {
        "colab": {
          "base_uri": "https://localhost:8080/"
        },
        "id": "548e43fa",
        "outputId": "5da8e3ce-bd74-47bc-8737-466a7e29ff8c"
      },
      "outputs": [
        {
          "output_type": "stream",
          "name": "stdout",
          "text": [
            "Enter: ··········\n",
            "Gemini API key configured.\n"
          ]
        }
      ],
      "source": [
        "import os\n",
        "import sys\n",
        "import warnings\n",
        "import getpass\n",
        "warnings.filterwarnings(\"ignore\", category=DeprecationWarning, module='jupyter_client')\n",
        "\n",
        "GEMINI_API_KEY = os.getenv('GEMINI_API_KEY') or getpass.getpass('Enter your Open Router API key: ').strip()\n",
        "os.environ['GEMINI_API_KEY'] = GEMINI_API_KEY\n",
        "print('Gemini API key configured.')"
      ]
    },
    {
      "cell_type": "markdown",
      "id": "a3de42a9",
      "metadata": {
        "id": "a3de42a9"
      },
      "source": []
    },
    {
      "cell_type": "code",
      "execution_count": 14,
      "id": "eb762f90",
      "metadata": {
        "id": "eb762f90"
      },
      "outputs": [],
      "source": [
        "# Imports\n",
        "from ddgs import DDGS\n",
        "import google.generativeai as genai\n",
        "import time, json, re\n",
        "from typing import List, Dict, Any\n",
        "import requests\n",
        "\n",
        "# Configure Gemini\n",
        "genai.configure(api_key=os.environ.get('GEMINI_API_KEY'))\n",
        "\n",
        "ddgs = DDGS()\n",
        "\n",
        "def web_search(query: str, max_results: int = 5):\n",
        "    \"\"\"Perform a DuckDuckGo search and return a list of result dicts.\"\"\"\n",
        "    results = []\n",
        "    for r in ddgs.text(query, region='wt-wt', safesearch='Off', timelimit='y'):\n",
        "        # ddgs.text yields generator; break when we have enough\n",
        "        results.append({'title': r.get('title'), 'body': r.get('body'), 'href': r.get('href')})\n",
        "        if len(results) >= max_results:\n",
        "            break\n",
        "    return results\n",
        "\n",
        "def llm_summarize(prompt: str, model: str = 'google/gemini-2.0-flash-exp:free', max_output_tokens: int = 512):\n",
        "    \"\"\"Call OpenRouter API to get a completion/synthesis.\"\"\"\n",
        "\n",
        "    response = requests.post(\n",
        "        url=\"https://openrouter.ai/api/v1/chat/completions\",\n",
        "        headers={\n",
        "            \"Authorization\": f\"Bearer {GEMINI_API_KEY}\",\n",
        "            \"Content-Type\": \"application/json\",\n",
        "            \"HTTP-Referer\": \"https://colab.research.google.com/\",\n",
        "            \"X-Title\": \"AI Travel Planner Colab Notebook\",\n",
        "        },\n",
        "        data=json.dumps({\n",
        "            \"model\": model,\n",
        "            \"messages\": [\n",
        "                {\n",
        "                    \"role\": \"user\",\n",
        "                    \"content\": prompt\n",
        "                }\n",
        "            ],\n",
        "            \"max_tokens\": max_output_tokens\n",
        "        })\n",
        "    )\n",
        "\n",
        "    try:\n",
        "        response_json = response.json()\n",
        "        if response_json and 'choices' in response_json and response_json['choices']:\n",
        "            return response_json['choices'][0]['message']['content'].strip()\n",
        "        else:\n",
        "            print(\"Warning: Unexpected response structure from OpenRouter API.\")\n",
        "            print(response_json)\n",
        "            return str(response_json)\n",
        "    except Exception as e:\n",
        "        print(f\"Error parsing OpenRouter API response: {e}\")\n",
        "        print(response.text)\n",
        "        return response.text.strip() if response.text else str(response)"
      ]
    },
    {
      "cell_type": "markdown",
      "id": "07c992c6",
      "metadata": {
        "id": "07c992c6"
      },
      "source": [
        "## Agent functions\n",
        "\n",
        "These functions perform live web searches and LLM synthesis to produce flight/hotel search results and itineraries."
      ]
    },
    {
      "cell_type": "code",
      "execution_count": 15,
      "id": "3ed493d6",
      "metadata": {
        "id": "3ed493d6"
      },
      "outputs": [],
      "source": [
        "from datetime import datetime, timedelta\n",
        "\n",
        "def search_flights(origin: str, destination: str, depart_date: str, return_date: str = '', passengers: int = 1):\n",
        "    \"\"\"Search web for flights and synthesize results with Gemini.\"\"\"\n",
        "    query = f\"flights from {origin} to {destination} {depart_date} {('return '+return_date) if return_date else ''} best fares\"\n",
        "    results = web_search(query, max_results=6)\n",
        "    # Compose LLM prompt\n",
        "    prompt = 'You are a travel assistant. Extract the most relevant flight options from these search snippets and present as JSON array with fields airline, price_estimate, depart, stops, link. Input snippets:\\n\\n' + json.dumps(results)\n",
        "    summary = llm_summarize(prompt)\n",
        "    # Try to extract JSON from LLM output\n",
        "    json_blob = extract_json_from_text(summary)\n",
        "    if json_blob:\n",
        "        return json_blob\n",
        "    else:\n",
        "        return {'summary_text': summary, 'raw_snippets': results}\n",
        "\n",
        "def search_hotels(destination: str, checkin: str, checkout: str, guests: int = 1):\n",
        "    query = f\"hotels in {destination} check-in {checkin} check-out {checkout} best deals\"\n",
        "    results = web_search(query, max_results=6)\n",
        "    prompt = 'You are a travel assistant. From these snippets, extract top hotel options as JSON with fields name, nightly_price_estimate, rating, link. Snippets:\\n\\n' + json.dumps(results)\n",
        "    summary = llm_summarize(prompt)\n",
        "    json_blob = extract_json_from_text(summary)\n",
        "    if json_blob:\n",
        "        return json_blob\n",
        "    else:\n",
        "        return {'summary_text': summary, 'raw_snippets': results}\n",
        "\n",
        "def plan_itinerary(destination: str, days: int, interests: List[str] = None):\n",
        "    interests = interests or ['sightseeing','food','culture']\n",
        "    query = f\"top things to do in {destination} {days} day itinerary {', '.join(interests)}\"\n",
        "    results = web_search(query, max_results=8)\n",
        "    prompt = 'You are a helpful travel planner. Based on these snippets, create a day-by-day itinerary for ' + str(days) + ' days focusing on ' + ','.join(interests) + '. Return JSON with keys: destination, days, itinerary (list of day objects with title and activities). Snippets:\\n\\n' + json.dumps(results)\n",
        "    summary = llm_summarize(prompt, model='gemini-2.0-flash', max_output_tokens=800)\n",
        "    json_blob = extract_json_from_text(summary)\n",
        "    if json_blob:\n",
        "        return json_blob\n",
        "    else:\n",
        "        return {'summary_text': summary, 'raw_snippets': results}\n",
        "\n",
        "# Helper to extract JSON from LLM text (best-effort)\n",
        "def extract_json_from_text(text: str):\n",
        "    idx = min([i for i in [text.find('{'), text.find('[')] if i!=-1] or [-1])\n",
        "    if idx == -1:\n",
        "        return None\n",
        "    candidate = text[idx:]\n",
        "    for end in range(len(candidate), 0, -1):\n",
        "        try:\n",
        "            parsed = json.loads(candidate[:end])\n",
        "            return parsed\n",
        "        except Exception:\n",
        "            continue\n",
        "    m = re.search(r'({.*}|\\[.*\\])', text, flags=re.DOTALL)\n",
        "    if m:\n",
        "        try:\n",
        "            return json.loads(m.group(1))\n",
        "        except Exception:\n",
        "            return None\n",
        "    return None"
      ]
    },
    {
      "cell_type": "markdown",
      "id": "ad17d2aa",
      "metadata": {
        "id": "ad17d2aa"
      },
      "source": [
        "## Example: Run agents locally"
      ]
    },
    {
      "cell_type": "code",
      "execution_count": 16,
      "id": "018a86e2",
      "metadata": {
        "colab": {
          "base_uri": "https://localhost:8080/"
        },
        "id": "018a86e2",
        "outputId": "48057d73-846d-48b7-c00e-e2377e269379"
      },
      "outputs": [
        {
          "output_type": "stream",
          "name": "stdout",
          "text": [
            "Origin (e.g., SFO): rabat\n",
            "Destination (e.g., Paris): tokyo\n",
            "Depart date (YYYY-MM-DD): 2025-10-10\n",
            "Number of nights: 7\n",
            "Searching flights...\n",
            "Warning: Unexpected response structure from OpenRouter API.\n",
            "{'error': {'message': 'No auth credentials found', 'code': 401}}\n",
            "\n",
            "Flights result:\n",
            " {\n",
            "  \"summary_text\": \"{'error': {'message': 'No auth credentials found', 'code': 401}}\",\n",
            "  \"raw_snippets\": [\n",
            "    {\n",
            "      \"title\": \"Cheap Flights from Chicago to Rabat\",\n",
            "      \"body\": \"... flight cost data from across the web for ... Increased flexibility is the main benefit when it comes to buying a one way flight from Chicago to Rabat .\",\n",
            "      \"href\": \"https://www.farecompare.com/flights/Chicago-CHI/Rabat-RBA/market.html\"\n",
            "    },\n",
            "    {\n",
            "      \"title\": \"Cheap flights Paris - Rabat, Morocco - Trabber\",\n",
            "      \"body\": \"The airlines with direct flights from Paris to Rabat are ... To get the best price from Paris to Rabat it is recommended to book 90 days in advance.\",\n",
            "      \"href\": \"https://www.trabber.us/flights-paris-rabat-par-rba/\"\n",
            "    },\n",
            "    {\n",
            "      \"title\": \"\\u20ac62 Cheap Flights from Dublin to Rabat in 2025 | momondo\",\n",
            "      \"body\": \"These are some of the best return flight deals from Dublin to Rabat that have been recently found on momondo from popular airlines, departing in the ...\",\n",
            "      \"href\": \"https://www.momondo.ie/flights/dublin/rabat\"\n",
            "    },\n",
            "    {\n",
            "      \"title\": \"$1,917 CHEAP FLIGHTS to Rabat in 2025 | KAYAK\",\n",
            "      \"body\": \"... best deals found on KAYAK ... Are your dates flexible? Find out the best times to travel to Rabat based on our flight data from the last year.\",\n",
            "      \"href\": \"https://www.kayak.com.au/flight-routes/Australia-AU0/Rabat-Sale-RBA\"\n",
            "    },\n",
            "    {\n",
            "      \"title\": \"Cheap flights Manchester to Rabat | Air France flights\",\n",
            "      \"body\": \"Take a look at the next 6 months and find the best price to fly whit Air France from Manchester (MAN) to Rabat (RBA) or directly pick your departure ...\",\n",
            "      \"href\": \"https://wwws.airfrance.co.uk/en-gb/flights-from-manchester-to-rabat\"\n",
            "    },\n",
            "    {\n",
            "      \"title\": \"Cheap flights Birmingham to Dallas | Air France flights\",\n",
            "      \"body\": \"Take a look at the next 6 months and find the best price to fly whit Air France from Birmingham (BHX) to Dallas (DFW) or directly pick your departure ...\",\n",
            "      \"href\": \"https://wwws.airfrance.co.uk/en-gb/flights-from-birmingham-to-dallas\"\n",
            "    }\n",
            "  ]\n",
            "}\n",
            "\n",
            "Searching hotels...\n",
            "Warning: Unexpected response structure from OpenRouter API.\n",
            "{'error': {'message': 'No auth credentials found', 'code': 401}}\n",
            "\n",
            "Hotels result:\n",
            " {\n",
            "  \"summary_text\": \"{'error': {'message': 'No auth credentials found', 'code': 401}}\",\n",
            "  \"raw_snippets\": [\n",
            "    {\n",
            "      \"title\": \"10 BEST Tokyo Hotels, Japan - Top Hotel Deals | Trip.com\",\n",
            "      \"body\": \"3 days ago \\u00b7 Enjoy great saving at our curated selection of best hotels in Tokyo . Get our Price Match to find good availability and best rates for Tokyo hotels . Most of them offer full refunds and free cancellations.\",\n",
            "      \"href\": \"https://www.trip.com/hotels/tokyo-hotels-list-228/\"\n",
            "    },\n",
            "    {\n",
            "      \"title\": \"Tokyo Hotels Starting From USD59 - Compare 3,802 Hotels In ... Top 20 Best Hotels in Tokyo (From USD 11.43) - Find 5,550 ... The Best Hotels with Early Check - in in Tokyo from $55 in 2024 - Expedia The Best Hotels with Early Check - in in Tokyo from $55 in 2024 - Expedia The Best Hotels with Early Check - in in Tokyo from $55 in 2024 - Expedia 10 Best Tokyo Hotels , Japan (From $39) - Booking.com 10 Best Tokyo Hotels , Japan (From $39) - Booking.com Find the 20 Top Hotels in Tokyo , Discount up to 30% - Traveloka 15 Best Hotels in Tokyo for 2025\",\n",
            "      \"body\": \"Aug 18, 2025 \\u00b7 Compare deals from hotel websites, airbnbs, vacation rentals and online travel agencies in one go. Read real & unbiased traveller reviews aggregated from multiple booking sites. View hotel prices with all taxes & surcharges included, and review a detailed breakdown of your booking. Discover 5,550+ top-rated hotels in Tokyo with best price and deals ! Compare hotel , amenities, and locations. With verified reviews How much does it cost to stay in Tokyo? Lots of choices for dining and the top storey bar has amazing view of Tokyo at night and is a great place to hang out . Choose from 8 Hotels with Early Check - in in Tokyo from $49. Compare room rates, hotel reviews and availability. Most hotels are fully refundable. Are early check-in hotels in Tokyo refundable? Hotel deals for properties with early check-in are readily available in Tokyo. Don't hesitate to opt for those high-end amenities you love and with early check-in, you can arrive and check in to your room before the check-in window officially begins. Some early check-in hotels in Tokyo are fully refundable . Which hotels in Tokyo offer early check-in? All sorts of hotels in Tokyo can offer early check-in whether you're looking for romantic accommodations, something suitable for the whole family, a business hotel, a 5-star resort, or cheap hotels with early check-in. Hotels with 24-hour front desk service often have early check-in available even if you're looking for hotels with a 6 am check-in. Is 205 a good hotel in Tokyo? The room size is typical of Tokyo, but it has all the amenities you need for a comfortable stay. The location is convenient, as it\\u2019s close to many of the places we wanted to visit. \\u30aa\\u30b0\\u30e9\\u30d3\\u30eb 205 is located in Tokyo, just a 7-minute walk from Sotobori Park and half a mile from Aizumi Art Museum. Which Hotel in Tokyo has a good room view? The Okura Tokyo , THE BLOSSOM HIBIYA, and HOTEL GROOVE SHINJUKU, A PARKROYAL Hotel got great room view-related reviews from travelers in Tokyo. See It to Believe It! The capital of Japan, Tokyo is a vast, teeming metropolis nestled between mountains and Tokyo Bay. Which hotels are popular in Tokyo? The most popular hotels booked by tourists are Richmond Hotel Premier Asakusa International, Hotel Gracery Shinjuku, Hilton Tokyo , Tobu Hotel Levant Tokyo , BELLUSTAR TOKYO , A Pan Pacific Hotel, Tokyo Bay Shiomi Prince Hotel, Shinjuku Prince Hotel, InterContinental Hotels TOKYO BAY, an IHG Hotel, Minn Ueno, Shinagawa Prince Hotel Jun 26, 2025 \\u00b7 Discover 15 of the best hotels in Tokyo to plan your next vacation to Japan, whether you\\u2019re a solo traveler on a budget, a couple going on your honeymoon, or want to check into Tokyo \\u2019s best luxury hotels .\",\n",
            "      \"href\": \"https://www.wego.com/hotels/japan/tokyo\"\n",
            "    },\n",
            "    {\n",
            "      \"title\": \"15 Best Hotels in Tokyo for 2025\",\n",
            "      \"body\": \"Jun 26, 2025 \\u00b7 Discover 15 of the best hotels in Tokyo to plan your next vacation to Japan, whether you\\u2019re a solo traveler on a budget, a couple going on your honeymoon, or want to check into Tokyo \\u2019s best luxury hotels .\",\n",
            "      \"href\": \"https://blog.zenhotels.com/best-hotels-in-tokyo-japan-2025/\"\n",
            "    },\n",
            "    {\n",
            "      \"title\": \"2025 Tokyo New Hotels | Top 50 Best-Value Accommodations in Popular ...\",\n",
            "      \"body\": \"It uses facial recognition for check-in , and the latest check-out time is 2:00 PM. Address: 6-20- 10 Miyashita Park North, Jingumae, Shibuya City, Tokyo 150-0001 | Google Map\",\n",
            "      \"href\": \"https://www.likejapan.com/en/travel/tokyo-hotel/\"\n",
            "    },\n",
            "    {\n",
            "      \"title\": \"What Time To Check In At Hotels In Tokyo: Early And Late Options ...\",\n",
            "      \"body\": \"Check-in times at hotels in Tokyo usually begin at 3:00 PM. Some hotels offer early check-in ; it's best to ask them directly. Late check-out is often available until 11:00 AM or 12:00 PM. Hotel policies may differ based on your reservation, so always confirm specific details with your chosen hotel .\",\n",
            "      \"href\": \"https://travelpander.com/what-time-to-check-in-hotel-in-tokyo/\"\n",
            "    },\n",
            "    {\n",
            "      \"title\": \"The 10 Best Hotel Deals in Tokyo (UPDATED Sept 2025) - Tripadvisor\",\n",
            "      \"body\": \"Tokyo Hotel Deals : Find great deals from hundreds of websites, and book the right hotel using Tripadvisor's 315,315 reviews of Tokyo hotels .\",\n",
            "      \"href\": \"https://www.tripadvisor.ca/SmartDeals-g298184-Tokyo_Tokyo_Prefecture_Kanto-Hotel-Deals.html\"\n",
            "    }\n",
            "  ]\n",
            "}\n",
            "\n",
            "Planning itinerary...\n",
            "Warning: Unexpected response structure from OpenRouter API.\n",
            "{'error': {'message': 'No auth credentials found', 'code': 401}}\n",
            "\n",
            "Itinerary result:\n",
            " {\n",
            "  \"summary_text\": \"{'error': {'message': 'No auth credentials found', 'code': 401}}\",\n",
            "  \"raw_snippets\": [\n",
            "    {\n",
            "      \"title\": \"7 days in Tokyo: The perfect week itinerary - Tripadvisor\",\n",
            "      \"body\": \"Next, head toward Ueno Park , which is the site of five major museums : Tokyo Metropolitan Art Museum (modern art from Japan), Tokyo National Museum ...\",\n",
            "      \"href\": \"https://www.tripadvisor.com/Articles-l3XjhfSxGehk-7_days_in_tokyo_itinerary.html\"\n",
            "    },\n",
            "    {\n",
            "      \"title\": \"4 days in Tokyo: The perfect itinerary - Tripadvisor\",\n",
            "      \"body\": \"Evening: After climbing down the Tokyo Skytree, toast to your first night in the city at the confusingly named Top of Tree .\",\n",
            "      \"href\": \"https://www.tripadvisor.com/Articles-ljnuEwSAiSi8-4_days_tokyo_itinerary.html\"\n",
            "    },\n",
            "    {\n",
            "      \"title\": \"The 17 Best Things to Do in Tokyo | Vogue\",\n",
            "      \"body\": \"... incredible capital is hard to encapsulate, if you\\u2019re planning a trip and need a few tips for what to add to your itinerary , continue ahead for 17 of ...\",\n",
            "      \"href\": \"https://www.vogue.com/article/best-things-to-do-in-tokyo\"\n",
            "    },\n",
            "    {\n",
            "      \"title\": \"1 Day Tokyo Itinerary | U.S. News Travel\",\n",
            "      \"body\": \"Explore the best things to do in Tokyo in 1 day based on recommendations from local experts. ... Museum goers also say that there is so much to see in ...\",\n",
            "      \"href\": \"https://travel.usnews.com/Tokyo_Japan/Things_To_Do/1-day-itinerary/\"\n",
            "    },\n",
            "    {\n",
            "      \"title\": \"3 Day Tokyo Itinerary | U.S. News Travel\",\n",
            "      \"body\": \"Explore the best things to do in Tokyo in 3 days based on recommendations from local experts. ... Museum goers also say that there is so much to see ...\",\n",
            "      \"href\": \"https://travel.usnews.com/Tokyo_Japan/Things_To_Do/3-day-itinerary/\"\n",
            "    },\n",
            "    {\n",
            "      \"title\": \"Things to Do in Tokyo: 5-Day Itinerary\",\n",
            "      \"body\": \"Take a 3-minute walk to the Hachik\\u014d Statue, Tokyo \\u2019s most famous dog and a beloved symbol of loyalty and perseverance.\",\n",
            "      \"href\": \"https://www.revigorate.com/things-to-do-in-tokyo.html\"\n",
            "    },\n",
            "    {\n",
            "      \"title\": \"17 Best Things to do in Tokyo, Japan (2024 Travel Itinerary)\",\n",
            "      \"body\": \"One of the best things to do in Tokyo is to experience the magic of Teamlab Planets : a sensory museum experience with large-scale art spaces.\",\n",
            "      \"href\": \"https://www.saltinourhair.com/japan/tokyo/\"\n",
            "    },\n",
            "    {\n",
            "      \"title\": \"The 27 best things to do in Tokyo, Japan - A Luxury Travel Blog\",\n",
            "      \"body\": \"Tokyo is the beating heart of Japan, here are our top recommendations to explore the capital of The Land of the Rising Sun\\u2026 1.\",\n",
            "      \"href\": \"https://www.aluxurytravelblog.com/2020/09/22/27-things-to-do-in-tokyo/\"\n",
            "    }\n",
            "  ]\n",
            "}\n"
          ]
        }
      ],
      "source": [
        "from datetime import datetime, timedelta\n",
        "\n",
        "# Example usage\n",
        "origin = input('Origin (e.g., Casablanca): ').strip() or 'Casablanca'\n",
        "destination = input('Destination (e.g., Paris): ').strip() or 'Paris'\n",
        "depart_date = input('Depart date (YYYY-MM-DD): ').strip() or '2025-10-10'\n",
        "nights = int(input('Number of nights: ').strip() or '5')\n",
        "\n",
        "print('Searching flights...')\n",
        "flights = search_flights(origin, destination, depart_date)\n",
        "print('\\nFlights result:\\n', json.dumps(flights, indent=2))\n",
        "\n",
        "print('\\nSearching hotels...')\n",
        "# Calculate checkout date based on depart_date and nights\n",
        "checkin_date = datetime.strptime(depart_date, '%Y-%m-%d')\n",
        "checkout_date = checkin_date + timedelta(days=nights)\n",
        "checkout_date_str = checkout_date.strftime('%Y-%m-%d')\n",
        "\n",
        "hotels = search_hotels(destination, depart_date, checkout_date_str)\n",
        "print('\\nHotels result:\\n', json.dumps(hotels, indent=2))\n",
        "\n",
        "print('\\nPlanning itinerary...')\n",
        "itinerary = plan_itinerary(destination, nights, interests=['museums','food'])\n",
        "print('\\nItinerary result:\\n', json.dumps(itinerary, indent=2))"
      ]
    },
    {
      "cell_type": "markdown",
      "id": "5d7e44c4",
      "metadata": {
        "id": "5d7e44c4"
      },
      "source": [
        "## MCP Server\n",
        "\n",
        "This cell implements a FastAPI-based MCP-like server that exposes `list_resources`, `list_tools`, and `call_tool`."
      ]
    },
    {
      "cell_type": "code",
      "execution_count": 17,
      "id": "244a8c9e",
      "metadata": {
        "id": "244a8c9e",
        "colab": {
          "base_uri": "https://localhost:8080/"
        },
        "outputId": "e9cce708-9c9a-40f4-95e1-b3389f3fe0e6"
      },
      "outputs": [
        {
          "output_type": "stream",
          "name": "stdout",
          "text": [
            "MCP server ready. Call run_server_bg() to start.\n"
          ]
        }
      ],
      "source": [
        "\n",
        "# MCP server implementation (FastAPI)\n",
        "from fastapi import FastAPI, HTTPException\n",
        "from pydantic import BaseModel\n",
        "from typing import List, Dict, Any\n",
        "import threading, time, requests, nest_asyncio, uvicorn\n",
        "\n",
        "nest_asyncio.apply()\n",
        "\n",
        "app = FastAPI(title='Notebook MCP Server (Real Agents)')\n",
        "\n",
        "class Resource(BaseModel):\n",
        "    uri: str\n",
        "    name: str\n",
        "    mimeType: str\n",
        "    description: str = ''\n",
        "\n",
        "class Tool(BaseModel):\n",
        "    name: str\n",
        "    description: str\n",
        "    inputSchema: Dict[str, Any] = {}\n",
        "\n",
        "# In-memory registries\n",
        "RESOURCES: List[Resource] = []\n",
        "TOOLS: List[Tool] = []\n",
        "\n",
        "def register_real_tools():\n",
        "    RESOURCES.clear(); TOOLS.clear()\n",
        "    RESOURCES.extend([\n",
        "        Resource(uri='travel://flights/search', name='Flight Search Results', mimeType='application/json'),\n",
        "        Resource(uri='travel://hotels/search', name='Hotel Search Results', mimeType='application/json'),\n",
        "        Resource(uri='travel://itineraries/latest', name='Latest Itinerary', mimeType='application/json')\n",
        "    ])\n",
        "    TOOLS.extend([\n",
        "        Tool(name='search_flights', description='Search flights via web + LLM', inputSchema={'origin':'string','destination':'string','depart_date':'string','return_date':'string?','passengers':'int?'}),\n",
        "        Tool(name='search_hotels', description='Search hotels via web + LLM', inputSchema={'destination':'string','checkin':'string','checkout':'string','guests':'int?'}),\n",
        "        Tool(name='plan_itinerary', description='Plan itinerary via web + LLM', inputSchema={'destination':'string','days':'int','interests':'array?'})\n",
        "    ])\n",
        "\n",
        "register_real_tools()\n",
        "\n",
        "@app.get('/list_resources', response_model=List[Resource])\n",
        "def list_resources():\n",
        "    return RESOURCES\n",
        "\n",
        "@app.get('/list_tools', response_model=List[Tool])\n",
        "def list_tools():\n",
        "    return TOOLS\n",
        "\n",
        "class CallToolReq(BaseModel):\n",
        "    name: str\n",
        "    arguments: Dict[str, Any] = {}\n",
        "\n",
        "@app.post('/call_tool')\n",
        "def call_tool(req: CallToolReq):\n",
        "    name = req.name\n",
        "    args = req.arguments or {}\n",
        "    if name == 'search_flights':\n",
        "        out = search_flights(**args)\n",
        "        # store in resource description as JSON string\n",
        "        for r in RESOURCES:\n",
        "            if r.uri == 'travel://flights/search':\n",
        "                r.description = json.dumps(out)\n",
        "        return {'status':'ok','result': out}\n",
        "    elif name == 'search_hotels':\n",
        "        out = search_hotels(**args)\n",
        "        for r in RESOURCES:\n",
        "            if r.uri == 'travel://hotels/search':\n",
        "                r.description = json.dumps(out)\n",
        "        return {'status':'ok','result': out}\n",
        "    elif name == 'plan_itinerary':\n",
        "        out = plan_itinerary(**args)\n",
        "        for r in RESOURCES:\n",
        "            if r.uri == 'travel://itineraries/latest':\n",
        "                r.description = json.dumps(out)\n",
        "        return {'status':'ok','result': out}\n",
        "    else:\n",
        "        raise HTTPException(status_code=404, detail=f'Tool {name} not found')\n",
        "\n",
        "def run_server_bg(host='127.0.0.1', port=8000):\n",
        "    config = uvicorn.Config(app, host=host, port=port, log_level='info', loop='asyncio')\n",
        "    server = uvicorn.Server(config)\n",
        "    thread = threading.Thread(target=server.run, daemon=True)\n",
        "    thread.start()\n",
        "    time.sleep(0.8)\n",
        "    return thread\n",
        "\n",
        "print('MCP server ready. Call run_server_bg() to start.')"
      ]
    },
    {
      "cell_type": "markdown",
      "id": "b485961a",
      "metadata": {
        "id": "b485961a"
      },
      "source": [
        "## Start MCP server (background)\n",
        "\n",
        "Run this cell to start the server; then use the example client cell to call tools remotely."
      ]
    },
    {
      "cell_type": "code",
      "execution_count": 18,
      "id": "dd7b42e5",
      "metadata": {
        "id": "dd7b42e5",
        "colab": {
          "base_uri": "https://localhost:8080/"
        },
        "outputId": "5382c640-f49a-46f1-d724-5a53d677e44d"
      },
      "outputs": [
        {
          "output_type": "stream",
          "name": "stderr",
          "text": [
            "INFO:     Started server process [1674]\n",
            "INFO:     Waiting for application startup.\n",
            "INFO:     Application startup complete.\n",
            "INFO:     Uvicorn running on http://127.0.0.1:8000 (Press CTRL+C to quit)\n"
          ]
        },
        {
          "output_type": "stream",
          "name": "stdout",
          "text": [
            "Server thread: Thread-4 (run)\n",
            "\n",
            "Tools:\n",
            "- search_flights : Search flights via web + LLM\n",
            "- search_hotels : Search hotels via web + LLM\n",
            "- plan_itinerary : Plan itinerary via web + LLM\n",
            "\n",
            "Resources:\n",
            "- travel://flights/search : Flight Search Results\n",
            "- travel://hotels/search : Hotel Search Results\n",
            "- travel://itineraries/latest : Latest Itinerary\n"
          ]
        }
      ],
      "source": [
        "\n",
        "# Start server\n",
        "thread = run_server_bg(host='127.0.0.1', port=8000)\n",
        "print('Server thread:', thread.name)\n",
        "# show tools/resources\n",
        "print('\\nTools:')\n",
        "for t in TOOLS:\n",
        "    print('-', t.name, ':', t.description)\n",
        "print('\\nResources:')\n",
        "for r in RESOURCES:\n",
        "    print('-', r.uri, ':', r.name)"
      ]
    },
    {
      "cell_type": "markdown",
      "id": "3ce7e0ba",
      "metadata": {
        "id": "3ce7e0ba"
      },
      "source": [
        "## Example: MCP client (calls server endpoints)\n",
        "\n",
        "This cell demonstrates how an external client would call the MCP server endpoints to run tools and read resources."
      ]
    },
    {
      "cell_type": "code",
      "execution_count": 19,
      "id": "f1ff2689",
      "metadata": {
        "id": "f1ff2689",
        "colab": {
          "base_uri": "https://localhost:8080/"
        },
        "outputId": "2fb33526-c813-4cde-aaf9-0c79f59d7f5a"
      },
      "outputs": [
        {
          "output_type": "stream",
          "name": "stdout",
          "text": [
            "Initialize-like call (list tools/resources)\n",
            "INFO:     127.0.0.1:40138 - \"GET /list_tools HTTP/1.1\" 200 OK\n",
            "[{'name': 'search_flights', 'description': 'Search flights via web + LLM', 'inputSchema': {'origin': 'string', 'destination': 'string', 'depart_date': 'string', 'return_date': 'string?', 'passengers': 'int?'}}, {'name': 'search_hotels', 'description': 'Search hotels via web + LLM', 'inputSchema': {'destination': 'string', 'checkin': 'string', 'checkout': 'string', 'guests': 'int?'}}, {'name': 'plan_itinerary', 'description': 'Plan itinerary via web + LLM', 'inputSchema': {'destination': 'string', 'days': 'int', 'interests': 'array?'}}]\n",
            "INFO:     127.0.0.1:40148 - \"GET /list_resources HTTP/1.1\" 200 OK\n",
            "[{'uri': 'travel://flights/search', 'name': 'Flight Search Results', 'mimeType': 'application/json', 'description': ''}, {'uri': 'travel://hotels/search', 'name': 'Hotel Search Results', 'mimeType': 'application/json', 'description': ''}, {'uri': 'travel://itineraries/latest', 'name': 'Latest Itinerary', 'mimeType': 'application/json', 'description': ''}]\n",
            "Warning: Unexpected response structure from OpenRouter API.\n",
            "{'error': {'message': 'No auth credentials found', 'code': 401}}\n",
            "INFO:     127.0.0.1:40150 - \"POST /call_tool HTTP/1.1\" 200 OK\n",
            "\n",
            "search_flights result:\n",
            " {\n",
            "  \"status\": \"ok\",\n",
            "  \"result\": {\n",
            "    \"summary_text\": \"{'error': {'message': 'No auth credentials found', 'code': 401}}\",\n",
            "    \"raw_snippets\": [\n",
            "      {\n",
            "        \"title\": \"$243 Flight Deals from San Francisco to Paris - Priceline.com\",\n",
            "        \"body\": \"Book on Priceline and fly from San Francisco to Paris on French from $243, on TAP from $298, on IBERIA from $382. Bundle flight + hotel and save an average of $240 per person.\",\n",
            "        \"href\": \"https://www.priceline.com/flight-routes/en-us/SFO/PAR/flights-from-san-francisco-to-paris.ssp\"\n",
            "      },\n",
            "      {\n",
            "        \"title\": \"Cheapest Ways to Fly to Paris in 2025 (From a Travel Blogger Who's Done ...\",\n",
            "        \"body\": \"Here are the cheapest ways to fly to Paris in 2025 from a travel blogger who's done it over 10 times. Real hacks, tools, and flight tricks.\",\n",
            "        \"href\": \"https://www.myglobalviewpoint.com/cheapest-ways-to-fly-to-paris-from-the-us/\"\n",
            "      },\n",
            "      {\n",
            "        \"title\": \"$750 Cheap Flights from San Francisco International to Paris in 2025 ...\",\n",
            "        \"body\": \"Flight deals from San Francisco International to Paris Looking for a cheap last-minute deal or the best return flight from San Francisco International to Paris ? Find the lowest prices on one-way and return tickets right here.\",\n",
            "        \"href\": \"https://www.skyscanner.com.au/routes/sfo/pari/san-francisco-international-to-paris.html\"\n",
            "      },\n",
            "      {\n",
            "        \"title\": \"Flights from San Francisco to Paris | TAP Air Portugal - FlyTAP\",\n",
            "        \"body\": \"Book cheap flights from San Francisco to Paris . Enjoy award winning service and inflight entertainment with Tap Air Portugal. Find the lowest fares .\",\n",
            "        \"href\": \"https://www.flytap.com/en_us/flights-from-san-francisco-to-paris\"\n",
            "      },\n",
            "      {\n",
            "        \"title\": \"San Francisco (SFO) to Paris (CDG) Flight, Airfares @ USD 513\",\n",
            "        \"body\": \"Currently, 352 flights fly from San Francisco to Paris . The ticket price varies from 513 to 329149 USD for San Francisco to Paris flight . EI - AER LINGUS SFO Aug 23, 2025 17:45 20h:45m CDG Aug 24, 2025 21:05 USD643Person (taxes & fees included) Select AF - AIR FRANCE SFO Aug 23, 2025 14:45 22h:07m CDG Aug 24, 2025 14:15 USD657Person (taxes ...\",\n",
            "        \"href\": \"https://www.travomint.net/international-flights/san-francisco-to-paris-flights\"\n",
            "      },\n",
            "      {\n",
            "        \"title\": \"Flights San Francisco - Paris | find flights, compare prices and book ...\",\n",
            "        \"body\": \"Flights from San Francisco ( SFO ) to Paris (PAR), low-cost direct flights and cheap flight offers on the route San Francisco ( SFO ) Paris (PAR) from $824 (price correct on 02/22/25). Book cheap tickets for direct flights online.\",\n",
            "        \"href\": \"https://flights.idealo.com/route/San-Francisco-SFO/Paris-PAR/\"\n",
            "      }\n",
            "    ]\n",
            "  }\n",
            "}\n",
            "\n",
            "Resources after call:\n",
            "INFO:     127.0.0.1:40164 - \"GET /list_resources HTTP/1.1\" 200 OK\n",
            "[{'uri': 'travel://flights/search', 'name': 'Flight Search Results', 'mimeType': 'application/json', 'description': '{\"summary_text\": \"{\\'error\\': {\\'message\\': \\'No auth credentials found\\', \\'code\\': 401}}\", \"raw_snippets\": [{\"title\": \"$243 Flight Deals from San Francisco to Paris - Priceline.com\", \"body\": \"Book on Priceline and fly from San Francisco to Paris on French from $243, on TAP from $298, on IBERIA from $382. Bundle flight + hotel and save an average of $240 per person.\", \"href\": \"https://www.priceline.com/flight-routes/en-us/SFO/PAR/flights-from-san-francisco-to-paris.ssp\"}, {\"title\": \"Cheapest Ways to Fly to Paris in 2025 (From a Travel Blogger Who\\'s Done ...\", \"body\": \"Here are the cheapest ways to fly to Paris in 2025 from a travel blogger who\\'s done it over 10 times. Real hacks, tools, and flight tricks.\", \"href\": \"https://www.myglobalviewpoint.com/cheapest-ways-to-fly-to-paris-from-the-us/\"}, {\"title\": \"$750 Cheap Flights from San Francisco International to Paris in 2025 ...\", \"body\": \"Flight deals from San Francisco International to Paris Looking for a cheap last-minute deal or the best return flight from San Francisco International to Paris ? Find the lowest prices on one-way and return tickets right here.\", \"href\": \"https://www.skyscanner.com.au/routes/sfo/pari/san-francisco-international-to-paris.html\"}, {\"title\": \"Flights from San Francisco to Paris | TAP Air Portugal - FlyTAP\", \"body\": \"Book cheap flights from San Francisco to Paris . Enjoy award winning service and inflight entertainment with Tap Air Portugal. Find the lowest fares .\", \"href\": \"https://www.flytap.com/en_us/flights-from-san-francisco-to-paris\"}, {\"title\": \"San Francisco (SFO) to Paris (CDG) Flight, Airfares @ USD 513\", \"body\": \"Currently, 352 flights fly from San Francisco to Paris . The ticket price varies from 513 to 329149 USD for San Francisco to Paris flight . EI - AER LINGUS SFO Aug 23, 2025 17:45 20h:45m CDG Aug 24, 2025 21:05 USD643Person (taxes & fees included) Select AF - AIR FRANCE SFO Aug 23, 2025 14:45 22h:07m CDG Aug 24, 2025 14:15 USD657Person (taxes ...\", \"href\": \"https://www.travomint.net/international-flights/san-francisco-to-paris-flights\"}, {\"title\": \"Flights San Francisco - Paris | find flights, compare prices and book ...\", \"body\": \"Flights from San Francisco ( SFO ) to Paris (PAR), low-cost direct flights and cheap flight offers on the route San Francisco ( SFO ) Paris (PAR) from $824 (price correct on 02/22/25). Book cheap tickets for direct flights online.\", \"href\": \"https://flights.idealo.com/route/San-Francisco-SFO/Paris-PAR/\"}]}'}, {'uri': 'travel://hotels/search', 'name': 'Hotel Search Results', 'mimeType': 'application/json', 'description': ''}, {'uri': 'travel://itineraries/latest', 'name': 'Latest Itinerary', 'mimeType': 'application/json', 'description': ''}]\n"
          ]
        }
      ],
      "source": [
        "\n",
        "import requests, json\n",
        "BASE = 'http://127.0.0.1:8000'\n",
        "\n",
        "print('Initialize-like call (list tools/resources)')\n",
        "print(requests.get(f'{BASE}/list_tools').json())\n",
        "print(requests.get(f'{BASE}/list_resources').json())\n",
        "\n",
        "# Call search_flights via MCP\n",
        "req = {'name':'search_flights','arguments':{'origin':'SFO','destination':'Paris','depart_date':'2025-10-10','passengers':1}}\n",
        "r = requests.post(f'{BASE}/call_tool', json=req)\n",
        "print('\\nsearch_flights result:\\n', json.dumps(r.json(), indent=2))\n",
        "\n",
        "# Read resources after call\n",
        "print('\\nResources after call:')\n",
        "print(requests.get(f'{BASE}/list_resources').json())"
      ]
    }
  ],
  "metadata": {
    "colab": {
      "provenance": []
    },
    "language_info": {
      "name": "python"
    },
    "kernelspec": {
      "name": "python3",
      "display_name": "Python 3"
    }
  },
  "nbformat": 4,
  "nbformat_minor": 5
}