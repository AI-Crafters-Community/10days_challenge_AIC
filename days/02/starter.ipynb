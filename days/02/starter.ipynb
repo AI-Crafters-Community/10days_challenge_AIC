{
  "cells": [
    {
      "cell_type": "code",
      "execution_count": null,
      "metadata": {},
      "outputs": [],
      "source": [
        "# Day 02 — Starter Notebook\n",
        "# Replace this cell with your code for Day 02.\n",
        "print(\"Ready to code Day 02!\")\n"
      ]
    }
  ],
  "metadata": {
    "language_info": {
      "name": "python"
    }
  },
  "nbformat": 4,
  "nbformat_minor": 2
}
