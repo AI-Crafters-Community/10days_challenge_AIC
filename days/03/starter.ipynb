{
  "cells": [
    {
      "cell_type": "code",
      "execution_count": null,
      "metadata": {},
      "outputs": [],
      "source": [
        "# Day 03 — Starter Notebook\n",
        "# Replace this cell with your code for Day 03.\n",
        "print(\"Ready to code Day 03!\")\n"
      ]
    }
  ],
  "metadata": {
    "language_info": {
      "name": "python"
    }
  },
  "nbformat": 4,
  "nbformat_minor": 2
}
